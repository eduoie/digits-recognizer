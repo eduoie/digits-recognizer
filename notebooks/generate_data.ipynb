{
 "cells": [
  {
   "cell_type": "markdown",
   "id": "1a131bfa-6183-4a19-b205-6d3512cd8433",
   "metadata": {},
   "source": [
    "# Description\n",
    "\n",
    "Generate the samples of data on which the model will be iteratively trained."
   ]
  },
  {
   "cell_type": "code",
   "execution_count": 2,
   "id": "b8e4d8e5-2cb1-4a79-a571-980a0f204565",
   "metadata": {},
   "outputs": [],
   "source": [
    "from keras.datasets import mnist\n",
    "import os\n",
    "import numpy as np"
   ]
  },
  {
   "cell_type": "code",
   "execution_count": 3,
   "id": "0802c049-e7c4-4e39-81a8-af7f53eba895",
   "metadata": {},
   "outputs": [
    {
     "name": "stdout",
     "output_type": "stream",
     "text": [
      "Downloading data from https://storage.googleapis.com/tensorflow/tf-keras-datasets/mnist.npz\n",
      "11493376/11490434 [==============================] - 2s 0us/step\n",
      "11501568/11490434 [==============================] - 2s 0us/step\n"
     ]
    }
   ],
   "source": [
    "(train_X, train_y), (test_X, test_y) = mnist.load_data()"
   ]
  },
  {
   "cell_type": "code",
   "execution_count": 3,
   "id": "49604ca7-7f9e-438a-8d97-27097ced0da0",
   "metadata": {},
   "outputs": [
    {
     "data": {
      "text/plain": [
       "array([5, 0, 4, ..., 5, 6, 8], dtype=uint8)"
      ]
     },
     "execution_count": 3,
     "metadata": {},
     "output_type": "execute_result"
    }
   ],
   "source": [
    "train_y"
   ]
  },
  {
   "cell_type": "code",
   "execution_count": 4,
   "id": "a3cb6158-0f59-4b05-9ef0-bd6e941be26c",
   "metadata": {},
   "outputs": [
    {
     "data": {
      "text/plain": [
       "(60000, 28, 28)"
      ]
     },
     "execution_count": 4,
     "metadata": {},
     "output_type": "execute_result"
    }
   ],
   "source": [
    "train_X.shape"
   ]
  },
  {
   "cell_type": "code",
   "execution_count": 12,
   "id": "87428fc8-7c2c-4f52-af2a-fd09eddc8ac3",
   "metadata": {},
   "outputs": [],
   "source": [
    "samples_1k = 1000\n",
    "samples_10k = 10_000"
   ]
  },
  {
   "cell_type": "code",
   "execution_count": 6,
   "id": "03db7474-e28b-44a3-bff9-6c24280c5f36",
   "metadata": {},
   "outputs": [
    {
     "data": {
      "text/plain": [
       "(1000, 28, 28)"
      ]
     },
     "execution_count": 6,
     "metadata": {},
     "output_type": "execute_result"
    }
   ],
   "source": [
    "train_X[:samples_to_take].shape"
   ]
  },
  {
   "cell_type": "code",
   "execution_count": 1,
   "id": "5db3e35c-a4c5-444e-986e-a6d3d7f4e0e8",
   "metadata": {
    "tags": []
   },
   "outputs": [],
   "source": [
    "DATA_DIR = '../data/initial_data'\n",
    "\n",
    "SAMPLE_1000 = 'samples_1k_X.npy'\n",
    "SAMPLE_1000_LABELS = 'samples_1k_y.npy'\n",
    "\n",
    "SAMPLE_10K = 'samples_10k_X.npy'\n",
    "SAMPLE_10K_LABELS = 'samples_10k_y.npy'\n",
    "\n",
    "SAMPLE_ALL = 'samples_all_X.npy'\n",
    "SAMPLE_ALL_LABELS = 'samples_all_y.npy'\n",
    "\n",
    "# not realistic, but for the sake of simplicity, just keep it as is\n",
    "TEST_DATA = 'test_X.npy'\n",
    "TEST_DATA_LABELS = 'test_y.npy'"
   ]
  },
  {
   "cell_type": "code",
   "execution_count": 11,
   "id": "9c4c1952-0083-4d4b-8689-14f23c784e40",
   "metadata": {},
   "outputs": [],
   "source": [
    "os.makedirs(DATA_DIR, exist_ok=True)"
   ]
  },
  {
   "cell_type": "code",
   "execution_count": 14,
   "id": "e22466d5-eaee-4acd-b89a-ba01605a4ddf",
   "metadata": {},
   "outputs": [],
   "source": [
    "with open(os.path.join(DATA_DIR, SAMPLE_1000), 'wb') as f:\n",
    "    np.save(f, train_X[:samples_1k])\n",
    "\n",
    "with open(os.path.join(DATA_DIR, SAMPLE_1000_LABELS), 'wb') as f:\n",
    "    np.save(f, train_y[:samples_1k])\n",
    "    \n",
    "with open(os.path.join(DATA_DIR, SAMPLE_10K), 'wb') as f:\n",
    "    np.save(f, train_X[:samples_10k])\n",
    "\n",
    "with open(os.path.join(DATA_DIR, SAMPLE_10K_LABELS), 'wb') as f:\n",
    "    np.save(f, train_y[:samples_10k])\n",
    "    \n",
    "with open(os.path.join(DATA_DIR, SAMPLE_ALL), 'wb') as f:\n",
    "    np.save(f, train_X)\n",
    "\n",
    "with open(os.path.join(DATA_DIR, SAMPLE_ALL_LABELS), 'wb') as f:\n",
    "    np.save(f, train_y)\n",
    "    \n",
    "with open(os.path.join(DATA_DIR, TEST_DATA), 'wb') as f:\n",
    "    np.save(f, test_X)\n",
    "\n",
    "with open(os.path.join(DATA_DIR, TEST_DATA_LABELS), 'wb') as f:\n",
    "    np.save(f, test_y)"
   ]
  },
  {
   "cell_type": "code",
   "execution_count": 9,
   "id": "cb8b49c5-de06-48f8-85de-c8a3da15570a",
   "metadata": {},
   "outputs": [
    {
     "data": {
      "text/plain": [
       "(10000, 28, 28)"
      ]
     },
     "execution_count": 9,
     "metadata": {},
     "output_type": "execute_result"
    }
   ],
   "source": [
    "test_X.shape"
   ]
  },
  {
   "cell_type": "code",
   "execution_count": null,
   "id": "87c5aeb4-d8a7-4f4a-ae9e-e9a2dd1d46b5",
   "metadata": {},
   "outputs": [],
   "source": []
  }
 ],
 "metadata": {
  "kernelspec": {
   "display_name": "Python 3 (ipykernel)",
   "language": "python",
   "name": "python3"
  },
  "language_info": {
   "codemirror_mode": {
    "name": "ipython",
    "version": 3
   },
   "file_extension": ".py",
   "mimetype": "text/x-python",
   "name": "python",
   "nbconvert_exporter": "python",
   "pygments_lexer": "ipython3",
   "version": "3.9.10"
  }
 },
 "nbformat": 4,
 "nbformat_minor": 5
}
