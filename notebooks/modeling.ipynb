{
 "cells": [
  {
   "cell_type": "code",
   "execution_count": 1,
   "id": "b911c9a3-1738-4a13-9b7c-44cebaf856e5",
   "metadata": {},
   "outputs": [],
   "source": [
    "import tensorflow as tf\n",
    "import numpy as np\n",
    "import os\n",
    "\n",
    "from matplotlib import pyplot"
   ]
  },
  {
   "cell_type": "code",
   "execution_count": 2,
   "id": "122c7895-65fd-4440-95e1-e988c8e6fb31",
   "metadata": {},
   "outputs": [],
   "source": [
    "DATA_DIR = '../data/initial_data'\n",
    "\n",
    "SAMPLE_1000 = 'samples_1k_X.npy'\n",
    "SAMPLE_1000_LABELS = 'samples_1k_y.npy'\n",
    "\n",
    "SAMPLE_10K = 'samples_10k_X.npy'\n",
    "SAMPLE_10K_LABELS = 'samples_10k_y.npy'\n",
    "\n",
    "SAMPLE_ALL = 'samples_all_X.npy'\n",
    "SAMPLE_ALL_LABELS = 'samples_all_y.npy'\n",
    "\n",
    "# not realistic, but for the sake of simplicity, just keep it as is\n",
    "TEST_DATA = 'test_X.npy'\n",
    "TEST_DATA_LABELS = 'test_y.npy'"
   ]
  },
  {
   "cell_type": "code",
   "execution_count": 3,
   "id": "0d20b679-f46c-425b-a45c-b444406043e8",
   "metadata": {},
   "outputs": [],
   "source": [
    "with open(os.path.join(DATA_DIR, SAMPLE_1000), 'rb') as f:\n",
    "    train_data = np.load(f)\n",
    "\n",
    "with open(os.path.join(DATA_DIR, SAMPLE_1000_LABELS), 'rb') as f:\n",
    "    label_data = np.load(f)"
   ]
  },
  {
   "cell_type": "code",
   "execution_count": 4,
   "id": "214be9bd-7738-44e8-abf3-9ed715fcf4d5",
   "metadata": {},
   "outputs": [],
   "source": [
    "train_X, train_y = train_data[:900], label_data[:900]\n",
    "valid_X, valid_y = train_data[900:], label_data[900:]"
   ]
  },
  {
   "cell_type": "code",
   "execution_count": 5,
   "id": "c0c98b0a-4417-4dfe-ab72-f72259bef4f5",
   "metadata": {},
   "outputs": [
    {
     "data": {
      "text/plain": [
       "((900, 28, 28), (900,))"
      ]
     },
     "execution_count": 5,
     "metadata": {},
     "output_type": "execute_result"
    }
   ],
   "source": [
    "train_X.shape, train_y.shape"
   ]
  },
  {
   "cell_type": "code",
   "execution_count": 6,
   "id": "eaddc898-c307-4e68-9134-12d0ccf138e2",
   "metadata": {},
   "outputs": [
    {
     "data": {
      "image/png": "[encoded data removed]",
      "text/plain": [
       "<Figure size 432x288 with 1 Axes>"
      ]
     },
     "metadata": {
      "needs_background": "light"
     },
     "output_type": "display_data"
    },
    {
     "data": {
      "image/png": "[encoded data removed]",
      "text/plain": [
       "<Figure size 432x288 with 1 Axes>"
      ]
     },
     "metadata": {
      "needs_background": "light"
     },
     "output_type": "display_data"
    },
    {
     "data": {
      "image/png": "[encoded data removed]",
      "text/plain": [
       "<Figure size 432x288 with 1 Axes>"
      ]
     },
     "metadata": {
      "needs_background": "light"
     },
     "output_type": "display_data"
    },
    {
     "data": {
      "text/plain": [
       "array([5, 0, 4], dtype=uint8)"
      ]
     },
     "execution_count": 6,
     "metadata": {},
     "output_type": "execute_result"
    }
   ],
   "source": [
    "for i in range(3):  \n",
    "    pyplot.subplot(330 + 1 + i)\n",
    "    pyplot.imshow(train_X[i], cmap=pyplot.get_cmap('gray'))\n",
    "    pyplot.show()\n",
    "    \n",
    "train_y[:3]"
   ]
  },
  {
   "cell_type": "markdown",
   "id": "cbdbdabc-465a-4b11-8b0c-22fd0b0f7696",
   "metadata": {},
   "source": [
    "## Train a simple model"
   ]
  },
  {
   "cell_type": "code",
   "execution_count": 7,
   "id": "37c55add-a5bb-4527-93a0-fe34c17e0b36",
   "metadata": {},
   "outputs": [],
   "source": [
    "train_X = train_X.astype('float32') / 255.0\n",
    "valid_X = valid_X.astype('float32') / 255.0"
   ]
  },
  {
   "cell_type": "code",
   "execution_count": 8,
   "id": "5a356e3e-6325-4e09-8968-a59b689f7854",
   "metadata": {},
   "outputs": [],
   "source": [
    "from tensorflow.keras import Sequential\n",
    "from tensorflow.keras.layers import Dense, Dropout"
   ]
  },
  {
   "cell_type": "code",
   "execution_count": 9,
   "id": "d531183e-7848-4c4e-aa98-db528fdb87c9",
   "metadata": {},
   "outputs": [
    {
     "name": "stderr",
     "output_type": "stream",
     "text": [
      "2022-03-10 12:30:06.595802: I tensorflow/core/platform/cpu_feature_guard.cc:151] This TensorFlow binary is optimized with oneAPI Deep Neural Network Library (oneDNN) to use the following CPU instructions in performance-critical operations:  SSE4.1 SSE4.2 AVX AVX2 FMA\n",
      "To enable them in other operations, rebuild TensorFlow with the appropriate compiler flags.\n"
     ]
    }
   ],
   "source": [
    "model = tf.keras.models.Sequential([\n",
    "  tf.keras.layers.Flatten(input_shape=(28, 28)),\n",
    "  tf.keras.layers.Dense(128, activation='relu'),\n",
    "  tf.keras.layers.Dropout(0.2),\n",
    "  tf.keras.layers.Dense(10, activation='softmax')\n",
    "])"
   ]
  },
  {
   "cell_type": "code",
   "execution_count": 10,
   "id": "bcfd3b21-1bab-4795-8eec-4d253db55f63",
   "metadata": {},
   "outputs": [
    {
     "name": "stdout",
     "output_type": "stream",
     "text": [
      "Epoch 1/10\n",
      "8/8 [==============================] - 0s 2ms/step - loss: 2.0406 - accuracy: 0.3211\n",
      "Epoch 2/10\n",
      "8/8 [==============================] - 0s 2ms/step - loss: 1.4088 - accuracy: 0.7056\n",
      "Epoch 3/10\n",
      "8/8 [==============================] - 0s 2ms/step - loss: 1.0201 - accuracy: 0.7867\n",
      "Epoch 4/10\n",
      "8/8 [==============================] - 0s 2ms/step - loss: 0.8055 - accuracy: 0.8200\n",
      "Epoch 5/10\n",
      "8/8 [==============================] - 0s 3ms/step - loss: 0.6684 - accuracy: 0.8267\n",
      "Epoch 6/10\n",
      "8/8 [==============================] - 0s 3ms/step - loss: 0.5727 - accuracy: 0.8578\n",
      "Epoch 7/10\n",
      "8/8 [==============================] - 0s 2ms/step - loss: 0.5266 - accuracy: 0.8633\n",
      "Epoch 8/10\n",
      "8/8 [==============================] - 0s 2ms/step - loss: 0.4814 - accuracy: 0.8589\n",
      "Epoch 9/10\n",
      "8/8 [==============================] - 0s 2ms/step - loss: 0.4399 - accuracy: 0.8867\n",
      "Epoch 10/10\n",
      "8/8 [==============================] - 0s 2ms/step - loss: 0.4081 - accuracy: 0.8933\n"
     ]
    },
    {
     "data": {
      "text/plain": [
       "<keras.callbacks.History at 0x7fb34816d790>"
      ]
     },
     "execution_count": 10,
     "metadata": {},
     "output_type": "execute_result"
    }
   ],
   "source": [
    "model.compile(optimizer='adam', loss='sparse_categorical_crossentropy', metrics=['accuracy'])\n",
    "# fit the model\n",
    "model.fit(train_X, train_y, epochs=10, batch_size=128, verbose=1)"
   ]
  },
  {
   "cell_type": "code",
   "execution_count": 11,
   "id": "19030de5-9b0b-40ea-9da2-38d473fa3752",
   "metadata": {},
   "outputs": [
    {
     "name": "stdout",
     "output_type": "stream",
     "text": [
      "4/4 [==============================] - 0s 2ms/step - loss: 0.5254 - accuracy: 0.8800\n"
     ]
    },
    {
     "data": {
      "text/plain": [
       "[0.5253971815109253, 0.8799999952316284]"
      ]
     },
     "execution_count": 11,
     "metadata": {},
     "output_type": "execute_result"
    }
   ],
   "source": [
    "model.evaluate(valid_X, valid_y, verbose=1)"
   ]
  },
  {
   "cell_type": "markdown",
   "id": "0d67fc87-b9e2-4294-bfeb-7904e4fec72b",
   "metadata": {},
   "source": [
    "# Log models with MLFlow"
   ]
  },
  {
   "cell_type": "code",
   "execution_count": 12,
   "id": "8f82396b-e358-4b52-b2c5-e35d7bf2caf0",
   "metadata": {},
   "outputs": [
    {
     "name": "stdout",
     "output_type": "stream",
     "text": [
      "Note: you may need to restart the kernel to use updated packages.\n"
     ]
    }
   ],
   "source": [
    "%pip install -q mlflow"
   ]
  },
  {
   "cell_type": "code",
   "execution_count": 13,
   "id": "6a0e6e02-cd8c-435c-8daa-e88d0312dc21",
   "metadata": {},
   "outputs": [],
   "source": [
    "# %pip install -q mlflow[extras]"
   ]
  },
  {
   "cell_type": "code",
   "execution_count": 14,
   "id": "2eaa0f6e-fbfa-451f-b016-08dabe8c0ce6",
   "metadata": {},
   "outputs": [],
   "source": [
    "import mlflow"
   ]
  },
  {
   "cell_type": "markdown",
   "id": "50dca885-efce-47fb-b949-089584e9065c",
   "metadata": {},
   "source": [
    "The uri of the server is given at the `docker_compose.yml` file: `container_name: mlflow_server`"
   ]
  },
  {
   "cell_type": "code",
   "execution_count": 15,
   "id": "81fa049e-960a-4ce6-8eff-920e38e00f4a",
   "metadata": {},
   "outputs": [],
   "source": [
    "remote_server_uri = \"http://mlflow_server:5000\""
   ]
  },
  {
   "cell_type": "code",
   "execution_count": 16,
   "id": "abd703d9-87bd-40ef-be03-e36e4ef73cbc",
   "metadata": {},
   "outputs": [],
   "source": [
    "# I have been unable to use the MLFlow proxied artifact storage access for scenario 5 :(\n",
    "\n",
    "PROXY_ARTIFACTS = False"
   ]
  },
  {
   "cell_type": "markdown",
   "id": "b33ca24b-2d41-4804-b292-01e86f066a0e",
   "metadata": {},
   "source": [
    "The config below requires to setup boto3 and configure credentials for the MLFlow client (this notebook)\n",
    "\n",
    "It represents this scenario: https://www.mlflow.org/docs/latest/tracking.html#scenario-4-mlflow-with-remote-tracking-server-backend-and-artifact-stores\n",
    "\n",
    "It doesn't require to set up mlflow server with --serve-artifacts"
   ]
  },
  {
   "cell_type": "code",
   "execution_count": 18,
   "id": "a97de0f0-6b7c-4090-b5ce-9935817ae8c9",
   "metadata": {
    "tags": []
   },
   "outputs": [
    {
     "name": "stdout",
     "output_type": "stream",
     "text": [
      "Note: you may need to restart the kernel to use updated packages.\n"
     ]
    }
   ],
   "source": [
    "if not PROXY_ARTIFACTS:\n",
    "    %pip install -q boto3\n",
    "    mlflow.set_tracking_uri(remote_server_uri)\n",
    "    # mlflow.set_registry_uri('mlflow-artifacts:/')\n",
    "    mlflow.set_experiment(\"simple-keras\")"
   ]
  },
  {
   "cell_type": "code",
   "execution_count": 19,
   "id": "b2de83ec-5955-40f9-8c4b-8bc58c3ab6d6",
   "metadata": {},
   "outputs": [],
   "source": [
    "# not sure if this is correct or not\n",
    "if PROXY_ARTIFACTS:\n",
    "    mlflow.set_tracking_uri(remote_server_uri)\n",
    "    # mlflow.set_registry_uri('mlflow-artifacts:/')\n",
    "    mlflow.set_experiment(\"simple-keras\")"
   ]
  },
  {
   "cell_type": "markdown",
   "id": "0942e769-ea74-4056-be09-0a105debf870",
   "metadata": {},
   "source": [
    "## Notes:\n",
    "\n",
    "Starting a server with the --serve-artifacts flag enables proxied access for artifacts. The uri mlflow-artifacts:/ replaces an otherwise explicit object store destination (e.g., “s3:/my_bucket/mlartifacts”) for interfacing with artifacts. The client can access artifacts via HTTP requests to the MLflow Tracking Server. This simplifies access requirements for users of the MLflow client, eliminating the need to configure access tokens or username and password environment variables for the underlying object store when writing or retrieving artifacts."
   ]
  },
  {
   "cell_type": "code",
   "execution_count": 20,
   "id": "2eb779e8-ea43-4502-a0ec-702795a68bed",
   "metadata": {},
   "outputs": [],
   "source": [
    "import mlflow.keras\n",
    "\n",
    "# Enable auto-logging to MLflow to capture TensorBoard metrics.\n",
    "mlflow.tensorflow.autolog()"
   ]
  },
  {
   "cell_type": "code",
   "execution_count": 21,
   "id": "1f2df857-7093-4058-872c-a547e23145c3",
   "metadata": {},
   "outputs": [
    {
     "name": "stdout",
     "output_type": "stream",
     "text": [
      "Epoch 1/15\n",
      "8/8 [==============================] - 0s 7ms/step - loss: 2.1446 - accuracy: 0.2667\n",
      "Epoch 2/15\n",
      "8/8 [==============================] - 0s 2ms/step - loss: 1.4856 - accuracy: 0.6811\n",
      "Epoch 3/15\n",
      "8/8 [==============================] - 0s 2ms/step - loss: 1.0838 - accuracy: 0.7722\n",
      "Epoch 4/15\n",
      "8/8 [==============================] - 0s 2ms/step - loss: 0.8515 - accuracy: 0.8111\n",
      "Epoch 5/15\n",
      "8/8 [==============================] - 0s 2ms/step - loss: 0.6967 - accuracy: 0.8267\n",
      "Epoch 6/15\n",
      "8/8 [==============================] - 0s 2ms/step - loss: 0.5936 - accuracy: 0.8533\n",
      "Epoch 7/15\n",
      "8/8 [==============================] - 0s 2ms/step - loss: 0.5386 - accuracy: 0.8556\n",
      "Epoch 8/15\n",
      "8/8 [==============================] - 0s 2ms/step - loss: 0.4774 - accuracy: 0.8800\n",
      "Epoch 9/15\n",
      "8/8 [==============================] - 0s 2ms/step - loss: 0.4490 - accuracy: 0.8867\n",
      "Epoch 10/15\n",
      "8/8 [==============================] - 0s 2ms/step - loss: 0.4047 - accuracy: 0.8978\n",
      "Epoch 11/15\n",
      "8/8 [==============================] - 0s 2ms/step - loss: 0.3771 - accuracy: 0.9056\n",
      "Epoch 12/15\n",
      "8/8 [==============================] - 0s 2ms/step - loss: 0.3437 - accuracy: 0.9167\n",
      "Epoch 13/15\n",
      "8/8 [==============================] - 0s 3ms/step - loss: 0.3100 - accuracy: 0.9167\n",
      "Epoch 14/15\n",
      "8/8 [==============================] - 0s 2ms/step - loss: 0.2906 - accuracy: 0.9300\n",
      "Epoch 15/15\n",
      "8/8 [==============================] - 0s 2ms/step - loss: 0.2837 - accuracy: 0.9256\n"
     ]
    },
    {
     "name": "stderr",
     "output_type": "stream",
     "text": [
      "2022-03-10 12:31:24.042752: W tensorflow/python/util/util.cc:368] Sets are not currently considered sequences, but this may change in the future, so consider avoiding using them.\n"
     ]
    },
    {
     "name": "stdout",
     "output_type": "stream",
     "text": [
      "INFO:tensorflow:Assets written to: /tmp/tmp2z71b7tw/model/data/model/assets\n"
     ]
    }
   ],
   "source": [
    "with mlflow.start_run():\n",
    "    \n",
    "    mlflow.log_artifact(os.path.join(DATA_DIR, SAMPLE_1000))\n",
    "    mlflow.log_artifact(os.path.join(DATA_DIR, SAMPLE_1000_LABELS))\n",
    "\n",
    "    model = tf.keras.models.Sequential([\n",
    "      tf.keras.layers.Flatten(input_shape=(28, 28)),\n",
    "      tf.keras.layers.Dense(128, activation='relu'),\n",
    "      tf.keras.layers.Dropout(0.2),\n",
    "      tf.keras.layers.Dense(10, activation='softmax')\n",
    "    ])\n",
    "\n",
    "    model.compile(optimizer='adam', loss='sparse_categorical_crossentropy', metrics=['accuracy'])\n",
    "    # fit the model\n",
    "    model.fit(train_X, train_y, epochs=15, batch_size=128, verbose=1)"
   ]
  },
  {
   "cell_type": "code",
   "execution_count": 22,
   "id": "0b27d56e-bc3b-4271-99c6-d3159fc59ea3",
   "metadata": {},
   "outputs": [
    {
     "name": "stdout",
     "output_type": "stream",
     "text": [
      "4/4 [==============================] - 0s 1ms/step - loss: 0.4740 - accuracy: 0.9000\n"
     ]
    },
    {
     "data": {
      "text/plain": [
       "[0.4739953875541687, 0.8999999761581421]"
      ]
     },
     "execution_count": 22,
     "metadata": {},
     "output_type": "execute_result"
    }
   ],
   "source": [
    "model.evaluate(valid_X, valid_y, verbose=1)"
   ]
  },
  {
   "cell_type": "code",
   "execution_count": 23,
   "id": "30bae0c5-5ca0-4424-ab6b-76cd219311d2",
   "metadata": {},
   "outputs": [
    {
     "name": "stderr",
     "output_type": "stream",
     "text": [
      "2022/03/10 12:31:38 INFO mlflow.utils.autologging_utils: Created MLflow autologging run with ID 'ae1ef212cfa6457493c58a4161b87b40', which will track hyperparameters, performance metrics, model artifacts, and lineage information for the current tensorflow workflow\n"
     ]
    },
    {
     "name": "stdout",
     "output_type": "stream",
     "text": [
      "Epoch 1/10\n",
      "15/15 [==============================] - 0s 10ms/step - loss: 1.9130 - accuracy: 0.4433 - val_loss: 1.3752 - val_accuracy: 0.7400\n",
      "Epoch 2/10\n",
      "15/15 [==============================] - 0s 3ms/step - loss: 1.0556 - accuracy: 0.7533 - val_loss: 0.8765 - val_accuracy: 0.8300\n",
      "Epoch 3/10\n",
      "15/15 [==============================] - 0s 3ms/step - loss: 0.7024 - accuracy: 0.8267 - val_loss: 0.6996 - val_accuracy: 0.8500\n",
      "Epoch 4/10\n",
      "15/15 [==============================] - 0s 3ms/step - loss: 0.5580 - accuracy: 0.8656 - val_loss: 0.5754 - val_accuracy: 0.8700\n",
      "Epoch 5/10\n",
      "15/15 [==============================] - 0s 3ms/step - loss: 0.4533 - accuracy: 0.8867 - val_loss: 0.5319 - val_accuracy: 0.8800\n",
      "Epoch 6/10\n",
      "15/15 [==============================] - 0s 3ms/step - loss: 0.4068 - accuracy: 0.8989 - val_loss: 0.4901 - val_accuracy: 0.9000\n",
      "Epoch 7/10\n",
      "15/15 [==============================] - 0s 2ms/step - loss: 0.3366 - accuracy: 0.9189 - val_loss: 0.4911 - val_accuracy: 0.8900\n",
      "Epoch 8/10\n",
      "15/15 [==============================] - 0s 3ms/step - loss: 0.2986 - accuracy: 0.9367 - val_loss: 0.4515 - val_accuracy: 0.8800\n",
      "Epoch 9/10\n",
      "15/15 [==============================] - 0s 3ms/step - loss: 0.2755 - accuracy: 0.9333 - val_loss: 0.4551 - val_accuracy: 0.9100\n",
      "Epoch 10/10\n",
      "15/15 [==============================] - 0s 3ms/step - loss: 0.2517 - accuracy: 0.9411 - val_loss: 0.4257 - val_accuracy: 0.9100\n",
      "INFO:tensorflow:Assets written to: /tmp/tmp6j8r7crn/model/data/model/assets\n"
     ]
    },
    {
     "data": {
      "text/plain": [
       "<keras.callbacks.History at 0x7fb2e88bb850>"
      ]
     },
     "execution_count": 23,
     "metadata": {},
     "output_type": "execute_result"
    }
   ],
   "source": [
    "model = tf.keras.models.Sequential([\n",
    "  tf.keras.layers.Flatten(input_shape=(28, 28)),\n",
    "  tf.keras.layers.Dense(128, activation='relu'),\n",
    "  tf.keras.layers.Dropout(0.2),\n",
    "  tf.keras.layers.Dense(10, activation='softmax')\n",
    "])\n",
    "\n",
    "model.compile(optimizer='adam', loss='sparse_categorical_crossentropy', metrics=['accuracy'])\n",
    "# fit the model\n",
    "model.fit(train_X, train_y, epochs=10, batch_size=64, validation_data=(valid_X, valid_y), verbose=1)"
   ]
  },
  {
   "cell_type": "code",
   "execution_count": 24,
   "id": "342df7d0-2127-4384-be41-1e2cc62907c8",
   "metadata": {},
   "outputs": [],
   "source": [
    "mlflow.tensorflow.autolog(disable=True)"
   ]
  },
  {
   "cell_type": "markdown",
   "id": "3376c3f3-d37b-448b-8d7f-56e41d7df430",
   "metadata": {},
   "source": [
    "Next model is not recorded"
   ]
  },
  {
   "cell_type": "code",
   "execution_count": 27,
   "id": "d977f604-1bbf-4947-bdb0-75a201155f25",
   "metadata": {},
   "outputs": [
    {
     "name": "stdout",
     "output_type": "stream",
     "text": [
      "Epoch 1/10\n",
      "15/15 [==============================] - 0s 7ms/step - loss: 2.0456 - accuracy: 0.3411 - val_loss: 1.5998 - val_accuracy: 0.6600\n",
      "Epoch 2/10\n",
      "15/15 [==============================] - 0s 2ms/step - loss: 1.3257 - accuracy: 0.6444 - val_loss: 0.9685 - val_accuracy: 0.7500\n",
      "Epoch 3/10\n",
      "15/15 [==============================] - 0s 3ms/step - loss: 0.8503 - accuracy: 0.7622 - val_loss: 0.6806 - val_accuracy: 0.8100\n",
      "Epoch 4/10\n",
      "15/15 [==============================] - 0s 3ms/step - loss: 0.6306 - accuracy: 0.8144 - val_loss: 0.6001 - val_accuracy: 0.7800\n",
      "Epoch 5/10\n",
      "15/15 [==============================] - 0s 3ms/step - loss: 0.4989 - accuracy: 0.8600 - val_loss: 0.4947 - val_accuracy: 0.8800\n",
      "Epoch 6/10\n",
      "15/15 [==============================] - 0s 3ms/step - loss: 0.4219 - accuracy: 0.8822 - val_loss: 0.4750 - val_accuracy: 0.8900\n",
      "Epoch 7/10\n",
      "15/15 [==============================] - 0s 2ms/step - loss: 0.3653 - accuracy: 0.8911 - val_loss: 0.4334 - val_accuracy: 0.8900\n",
      "Epoch 8/10\n",
      "15/15 [==============================] - 0s 2ms/step - loss: 0.3324 - accuracy: 0.9067 - val_loss: 0.4413 - val_accuracy: 0.8900\n",
      "Epoch 9/10\n",
      "15/15 [==============================] - 0s 3ms/step - loss: 0.2972 - accuracy: 0.9078 - val_loss: 0.4530 - val_accuracy: 0.9200\n",
      "Epoch 10/10\n",
      "15/15 [==============================] - 0s 3ms/step - loss: 0.2687 - accuracy: 0.9244 - val_loss: 0.4310 - val_accuracy: 0.8900\n"
     ]
    },
    {
     "data": {
      "text/plain": [
       "<keras.callbacks.History at 0x7f7c50e5ccd0>"
      ]
     },
     "execution_count": 27,
     "metadata": {},
     "output_type": "execute_result"
    }
   ],
   "source": [
    "model = tf.keras.models.Sequential([\n",
    "  tf.keras.layers.Flatten(input_shape=(28, 28)),\n",
    "  tf.keras.layers.Dense(128, activation='relu'),\n",
    "  tf.keras.layers.Dropout(0.3),\n",
    "  tf.keras.layers.Dense(64, activation='relu'),    \n",
    "  tf.keras.layers.Dense(10, activation='softmax')\n",
    "])\n",
    "\n",
    "model.compile(optimizer='adam', loss='sparse_categorical_crossentropy', metrics=['accuracy'])\n",
    "# fit the model\n",
    "model.fit(train_X, train_y, epochs=10, batch_size=64, validation_data=(valid_X, valid_y), verbose=1)"
   ]
  },
  {
   "cell_type": "code",
   "execution_count": 27,
   "id": "88c757e1-063b-420b-97ce-d753972d9b44",
   "metadata": {},
   "outputs": [
    {
     "data": {
      "text/html": [
       "<div>\n",
       "<style scoped>\n",
       "    .dataframe tbody tr th:only-of-type {\n",
       "        vertical-align: middle;\n",
       "    }\n",
       "\n",
       "    .dataframe tbody tr th {\n",
       "        vertical-align: top;\n",
       "    }\n",
       "\n",
       "    .dataframe thead th {\n",
       "        text-align: right;\n",
       "    }\n",
       "</style>\n",
       "<table border=\"1\" class=\"dataframe\">\n",
       "  <thead>\n",
       "    <tr style=\"text-align: right;\">\n",
       "      <th></th>\n",
       "      <th>run_id</th>\n",
       "      <th>experiment_id</th>\n",
       "      <th>status</th>\n",
       "      <th>artifact_uri</th>\n",
       "      <th>start_time</th>\n",
       "      <th>end_time</th>\n",
       "      <th>metrics.loss</th>\n",
       "      <th>metrics.val_accuracy</th>\n",
       "      <th>metrics.accuracy</th>\n",
       "      <th>metrics.val_loss</th>\n",
       "      <th>...</th>\n",
       "      <th>params.initial_epoch</th>\n",
       "      <th>params.use_multiprocessing</th>\n",
       "      <th>params.validation_freq</th>\n",
       "      <th>params.validation_split</th>\n",
       "      <th>params.opt_name</th>\n",
       "      <th>tags.mlflow.autologging</th>\n",
       "      <th>tags.mlflow.source.type</th>\n",
       "      <th>tags.mlflow.source.name</th>\n",
       "      <th>tags.mlflow.user</th>\n",
       "      <th>tags.mlflow.log-model.history</th>\n",
       "    </tr>\n",
       "  </thead>\n",
       "  <tbody>\n",
       "    <tr>\n",
       "      <th>0</th>\n",
       "      <td>ae1ef212cfa6457493c58a4161b87b40</td>\n",
       "      <td>3</td>\n",
       "      <td>FINISHED</td>\n",
       "      <td>s3://digits-recognizer-project/experiments/3/a...</td>\n",
       "      <td>2022-03-10 12:31:38.136000+00:00</td>\n",
       "      <td>2022-03-10 12:31:58.646000+00:00</td>\n",
       "      <td>0.251724</td>\n",
       "      <td>0.91</td>\n",
       "      <td>0.941111</td>\n",
       "      <td>0.425701</td>\n",
       "      <td>...</td>\n",
       "      <td>0</td>\n",
       "      <td>False</td>\n",
       "      <td>1</td>\n",
       "      <td>0.0</td>\n",
       "      <td>Adam</td>\n",
       "      <td>tensorflow</td>\n",
       "      <td>LOCAL</td>\n",
       "      <td>/opt/conda/lib/python3.9/site-packages/ipykern...</td>\n",
       "      <td>jovyan</td>\n",
       "      <td>[{\"run_id\": \"ae1ef212cfa6457493c58a4161b87b40\"...</td>\n",
       "    </tr>\n",
       "    <tr>\n",
       "      <th>1</th>\n",
       "      <td>107d4c95893241c4a22397f3b7f8b3b0</td>\n",
       "      <td>3</td>\n",
       "      <td>FINISHED</td>\n",
       "      <td>s3://digits-recognizer-project/experiments/3/1...</td>\n",
       "      <td>2022-03-10 12:31:13.243000+00:00</td>\n",
       "      <td>2022-03-10 12:31:37.995000+00:00</td>\n",
       "      <td>0.283735</td>\n",
       "      <td>NaN</td>\n",
       "      <td>0.925556</td>\n",
       "      <td>NaN</td>\n",
       "      <td>...</td>\n",
       "      <td>0</td>\n",
       "      <td>False</td>\n",
       "      <td>1</td>\n",
       "      <td>0.0</td>\n",
       "      <td>Adam</td>\n",
       "      <td>None</td>\n",
       "      <td>LOCAL</td>\n",
       "      <td>/opt/conda/lib/python3.9/site-packages/ipykern...</td>\n",
       "      <td>jovyan</td>\n",
       "      <td>[{\"run_id\": \"107d4c95893241c4a22397f3b7f8b3b0\"...</td>\n",
       "    </tr>\n",
       "  </tbody>\n",
       "</table>\n",
       "<p>2 rows × 36 columns</p>\n",
       "</div>"
      ],
      "text/plain": [
       "                             run_id experiment_id    status  \\\n",
       "0  ae1ef212cfa6457493c58a4161b87b40             3  FINISHED   \n",
       "1  107d4c95893241c4a22397f3b7f8b3b0             3  FINISHED   \n",
       "\n",
       "                                        artifact_uri  \\\n",
       "0  s3://digits-recognizer-project/experiments/3/a...   \n",
       "1  s3://digits-recognizer-project/experiments/3/1...   \n",
       "\n",
       "                        start_time                         end_time  \\\n",
       "0 2022-03-10 12:31:38.136000+00:00 2022-03-10 12:31:58.646000+00:00   \n",
       "1 2022-03-10 12:31:13.243000+00:00 2022-03-10 12:31:37.995000+00:00   \n",
       "\n",
       "   metrics.loss  metrics.val_accuracy  metrics.accuracy  metrics.val_loss  \\\n",
       "0      0.251724                  0.91          0.941111          0.425701   \n",
       "1      0.283735                   NaN          0.925556               NaN   \n",
       "\n",
       "   ... params.initial_epoch params.use_multiprocessing params.validation_freq  \\\n",
       "0  ...                    0                      False                      1   \n",
       "1  ...                    0                      False                      1   \n",
       "\n",
       "  params.validation_split params.opt_name tags.mlflow.autologging  \\\n",
       "0                     0.0            Adam              tensorflow   \n",
       "1                     0.0            Adam                    None   \n",
       "\n",
       "  tags.mlflow.source.type                            tags.mlflow.source.name  \\\n",
       "0                   LOCAL  /opt/conda/lib/python3.9/site-packages/ipykern...   \n",
       "1                   LOCAL  /opt/conda/lib/python3.9/site-packages/ipykern...   \n",
       "\n",
       "  tags.mlflow.user                      tags.mlflow.log-model.history  \n",
       "0           jovyan  [{\"run_id\": \"ae1ef212cfa6457493c58a4161b87b40\"...  \n",
       "1           jovyan  [{\"run_id\": \"107d4c95893241c4a22397f3b7f8b3b0\"...  \n",
       "\n",
       "[2 rows x 36 columns]"
      ]
     },
     "execution_count": 27,
     "metadata": {},
     "output_type": "execute_result"
    }
   ],
   "source": [
    "runs_df = mlflow.search_runs(filter_string=\"metrics.accuracy > 0.5\")\n",
    "runs_df"
   ]
  },
  {
   "cell_type": "code",
   "execution_count": 30,
   "id": "9016ab1f-e0d3-4fef-8ecc-11bec05b6e9d",
   "metadata": {},
   "outputs": [],
   "source": [
    "run_id = runs_df.loc[runs_df['metrics.accuracy'].idxmax()]['run_id']"
   ]
  },
  {
   "cell_type": "code",
   "execution_count": 31,
   "id": "9d8d4314-2780-41d9-9219-7bde6815f6b8",
   "metadata": {},
   "outputs": [
    {
     "data": {
      "text/plain": [
       "'ae1ef212cfa6457493c58a4161b87b40'"
      ]
     },
     "execution_count": 31,
     "metadata": {},
     "output_type": "execute_result"
    }
   ],
   "source": [
    "run_id"
   ]
  },
  {
   "cell_type": "code",
   "execution_count": 32,
   "id": "cdeba561-9080-4209-bcfd-e8d8393311c9",
   "metadata": {},
   "outputs": [
    {
     "name": "stderr",
     "output_type": "stream",
     "text": [
      "Successfully registered model 'keras-digits-model-1'.\n",
      "2022/03/10 12:50:14 INFO mlflow.tracking._model_registry.client: Waiting up to 300 seconds for model version to finish creation.                     Model name: keras-digits-model-1, version 1\n",
      "Created version '1' of model 'keras-digits-model-1'.\n"
     ]
    }
   ],
   "source": [
    "result = mlflow.register_model(\n",
    "    f\"runs:/{run_id}\",\n",
    "    \"keras-digits-model-1\"\n",
    ")"
   ]
  },
  {
   "cell_type": "code",
   "execution_count": null,
   "id": "db576e43-c160-4a6a-a26e-1fa98da51d45",
   "metadata": {},
   "outputs": [],
   "source": []
  }
 ],
 "metadata": {
  "kernelspec": {
   "display_name": "Python 3 (ipykernel)",
   "language": "python",
   "name": "python3"
  },
  "language_info": {
   "codemirror_mode": {
    "name": "ipython",
    "version": 3
   },
   "file_extension": ".py",
   "mimetype": "text/x-python",
   "name": "python",
   "nbconvert_exporter": "python",
   "pygments_lexer": "ipython3",
   "version": "3.9.10"
  }
 },
 "nbformat": 4,
 "nbformat_minor": 5
}
